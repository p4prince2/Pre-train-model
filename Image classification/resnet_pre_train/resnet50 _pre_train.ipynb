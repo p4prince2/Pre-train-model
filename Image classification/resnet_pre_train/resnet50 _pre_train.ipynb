{
 "cells": [
  {
   "cell_type": "code",
   "execution_count": 3,
   "id": "cf0563ee-7f80-4666-b683-58fcf42da67d",
   "metadata": {},
   "outputs": [
    {
     "name": "stdout",
     "output_type": "stream",
     "text": [
      "Downloading data from https://storage.googleapis.com/tensorflow/keras-applications/resnet/resnet50_weights_tf_dim_ordering_tf_kernels.h5\n",
      "\u001b[1m102967424/102967424\u001b[0m \u001b[32m━━━━━━━━━━━━━━━━━━━━\u001b[0m\u001b[37m\u001b[0m \u001b[1m1093s\u001b[0m 11us/step\n"
     ]
    }
   ],
   "source": [
    "from keras.applications.resnet50 import ResNet50\n",
    "from keras.preprocessing import image\n",
    "from keras.applications.resnet50 import preprocess_input\n",
    "import numpy as np\n",
    "import json\n",
    "# Load pre-trained ResNet50 model\n",
    "emotion_model = ResNet50(weights='imagenet')\n",
    "\n"
   ]
  },
  {
   "cell_type": "code",
   "execution_count": 9,
   "id": "c0fc5781-6f0f-420d-8378-c0399a952339",
   "metadata": {},
   "outputs": [
    {
     "name": "stdout",
     "output_type": "stream",
     "text": [
      "\u001b[1m1/1\u001b[0m \u001b[32m━━━━━━━━━━━━━━━━━━━━\u001b[0m\u001b[37m\u001b[0m \u001b[1m0s\u001b[0m 140ms/step\n",
      "Predicted Class Label: golden_retriever\n"
     ]
    }
   ],
   "source": [
    "# Prepare an image for prediction\n",
    "#img_path = 'your_input_image_.jpg'  # path to your image\n",
    "img_path = '2.jpg'  # path to your image\n",
    "img = image.load_img(img_path, target_size=(224, 224))\n",
    "img_array = image.img_to_array(img)\n",
    "img_array = np.expand_dims(img_array, axis=0)\n",
    "img_array = preprocess_input(img_array)\n",
    "\n",
    "# Get predictions\n",
    "predictions = emotion_model.predict(img_array)\n",
    "\n",
    "\n",
    "# Example: the model's prediction output array\n",
    "output_array = np.array(predictions)\n",
    "\n",
    "# Get the index of the maximum value in the output array\n",
    "predicted_class = np.argmax(output_array)\n",
    "\n",
    "#print(f\"Predicted class index: {predicted_class}\")\n",
    "\n",
    "\n",
    "\n",
    "# Load the ImageNet class labels from a JSON file\n",
    "with open('imagenet_class_index.json', 'r') as f:\n",
    "    class_idx = json.load(f)\n",
    "\n",
    "# Example: Predicted class index from your model\n",
    "predicted_class_index = predicted_class\n",
    "\n",
    "# Get the corresponding class label\n",
    "predicted_class_label = class_idx[str(predicted_class_index)][1]\n",
    "\n",
    "print(\"Predicted Class Label:\", predicted_class_label)\n",
    "\n"
   ]
  },
  {
   "cell_type": "code",
   "execution_count": null,
   "id": "2d5f0238-1f07-4b87-9520-b51ba5c1f097",
   "metadata": {},
   "outputs": [],
   "source": []
  }
 ],
 "metadata": {
  "kernelspec": {
   "display_name": "Python 3 (ipykernel)",
   "language": "python",
   "name": "python3"
  },
  "language_info": {
   "codemirror_mode": {
    "name": "ipython",
    "version": 3
   },
   "file_extension": ".py",
   "mimetype": "text/x-python",
   "name": "python",
   "nbconvert_exporter": "python",
   "pygments_lexer": "ipython3",
   "version": "3.12.7"
  }
 },
 "nbformat": 4,
 "nbformat_minor": 5
}
